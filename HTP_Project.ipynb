{
  "nbformat": 4,
  "nbformat_minor": 0,
  "metadata": {
    "colab": {
      "name": "HTP_Project.ipynb",
      "provenance": []
    },
    "kernelspec": {
      "name": "python3",
      "display_name": "Python 3"
    },
    "language_info": {
      "name": "python"
    }
  },
  "cells": [
    {
      "cell_type": "code",
      "execution_count": 2,
      "metadata": {
        "id": "5D-zKLWpG-Q1"
      },
      "outputs": [],
      "source": [
        "import networkx as nt"
      ]
    },
    {
      "cell_type": "code",
      "source": [
        "import pandas as pd"
      ],
      "metadata": {
        "id": "vHJC6D-nHHNB"
      },
      "execution_count": 3,
      "outputs": []
    },
    {
      "cell_type": "code",
      "source": [
        "df = pd.read_csv('/content/string_interactions.csv')"
      ],
      "metadata": {
        "id": "haYJegZjHKJb"
      },
      "execution_count": 8,
      "outputs": []
    },
    {
      "cell_type": "code",
      "source": [
        "g = nt.from_pandas_edgelist(df,source='Source',target='Target')"
      ],
      "metadata": {
        "id": "xnPtyoRrNri5"
      },
      "execution_count": 10,
      "outputs": []
    },
    {
      "cell_type": "markdown",
      "source": [
        ""
      ],
      "metadata": {
        "id": "QtnAvOAFLz2U"
      }
    },
    {
      "cell_type": "code",
      "source": [
        "deg = pd.DataFrame(g.degree())"
      ],
      "metadata": {
        "id": "g2IzGB4EKqoe"
      },
      "execution_count": 11,
      "outputs": []
    },
    {
      "cell_type": "code",
      "source": [
        "deg.to_csv('degrees.csv',index=None,header=None)"
      ],
      "metadata": {
        "id": "hLTZpefuL0QU"
      },
      "execution_count": 12,
      "outputs": []
    }
  ]
}